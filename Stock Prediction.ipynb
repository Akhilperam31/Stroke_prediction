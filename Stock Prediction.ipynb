{
 "cells": [
  {
   "cell_type": "markdown",
   "id": "85e85a1a",
   "metadata": {},
   "source": [
    "# Stroke predicition"
   ]
  },
  {
   "cell_type": "markdown",
   "id": "8049a3cd",
   "metadata": {},
   "source": [
    "In this project, we use the dataset to predict who is likely to have a stroke by using the information like age, gender, bmi, smoking status and the other diseases.\n",
    "\n",
    "The information of each column is provided below. \n",
    "\n",
    "1) id: unique identifier\n",
    "2) gender: \"Male\", \"Female\" or \"Other\"\n",
    "3) age: age of the patient\n",
    "4) hypertension: 0 if the patient doesn't have hypertension, 1 if the patient has hypertension\n",
    "5) heart_disease: 0 if the patient doesn't have any heart diseases, 1 if the patient has a heart disease\n",
    "6) ever_married: \"No\" or \"Yes\"\n",
    "7) work_type: \"children\", \"Govt_jov\", \"Never_worked\", \"Private\" or \"Self-employed\"\n",
    "8) Residence_type: \"Rural\" or \"Urban\"\n",
    "9) avg_glucose_level: average glucose level in blood\n",
    "10) bmi: body mass index\n",
    "11) smoking_status: \"formerly smoked\", \"never smoked\", \"smokes\" or \"Unknown\"\n",
    "12) stroke: 1 if the patient had a stroke or 0 if not\n",
    "\n",
    "\n",
    "Note: \"Unknown\" in smoking_status means that the information is unavailable for this patient"
   ]
  },
  {
   "cell_type": "markdown",
   "id": "4671f918",
   "metadata": {},
   "source": [
    "# Exploratory Data Analysis"
   ]
  },
  {
   "cell_type": "code",
   "execution_count": null,
   "id": "765d460d",
   "metadata": {},
   "outputs": [],
   "source": [
    "import numpy as np # linear algebra\n",
    "import pandas as pd # data processing, CSV file I/O (e.g. pd.read_csv)\n",
    "import matplotlib.pyplot as plt\n",
    "import seaborn as sns\n",
    "import warnings\n",
    "warnings.filterwarnings(\"ignore\")"
   ]
  },
  {
   "cell_type": "code",
   "execution_count": null,
   "id": "67e89799",
   "metadata": {},
   "outputs": [],
   "source": [
    "df=pd.read_csv('healthcare-dataset-stroke-data.csv')"
   ]
  },
  {
   "cell_type": "markdown",
   "id": "dbe8ef06",
   "metadata": {},
   "source": [
    "We now first discovering by using head and shape."
   ]
  },
  {
   "cell_type": "code",
   "execution_count": null,
   "id": "221c744d",
   "metadata": {},
   "outputs": [],
   "source": [
    "df.head(10)"
   ]
  },
  {
   "cell_type": "code",
   "execution_count": null,
   "id": "ced4e0d6",
   "metadata": {},
   "outputs": [],
   "source": [
    "df.shape"
   ]
  },
  {
   "cell_type": "markdown",
   "id": "af3139b0",
   "metadata": {},
   "source": [
    "In this dataset, there are 12 columns and 5110 rows. Next, we need some descriptive statistics on this dataset."
   ]
  },
  {
   "cell_type": "code",
   "execution_count": null,
   "id": "2f7a12ad",
   "metadata": {},
   "outputs": [],
   "source": [
    "df.describe(include='all')"
   ]
  },
  {
   "cell_type": "markdown",
   "id": "d0e865ea",
   "metadata": {},
   "source": [
    "In the 'gender' column, there are 3 unique values, Male, Female, and Other. The average age of these observation is around 43 years old. Most of the patient are never smoke before. The average glucose level and bmi among all of the patients are 106.147677 and 28.893237, respectively."
   ]
  },
  {
   "cell_type": "code",
   "execution_count": null,
   "id": "1158189f",
   "metadata": {},
   "outputs": [],
   "source": [
    "df.info()"
   ]
  },
  {
   "cell_type": "markdown",
   "id": "25d208c5",
   "metadata": {},
   "source": [
    "We can see that in the 'bmi' column, there are some value missing. In the further regression, we will delete the row with these value missing."
   ]
  },
  {
   "cell_type": "code",
   "execution_count": null,
   "id": "57e90dae",
   "metadata": {},
   "outputs": [],
   "source": [
    "df.duplicated().value_counts()"
   ]
  },
  {
   "cell_type": "markdown",
   "id": "0ab9c094",
   "metadata": {},
   "source": [
    "There are no duplicate in this dataset."
   ]
  },
  {
   "cell_type": "code",
   "execution_count": null,
   "id": "08c537b8",
   "metadata": {},
   "outputs": [],
   "source": [
    "df['stroke'].value_counts(normalize=True)*100"
   ]
  },
  {
   "cell_type": "markdown",
   "id": "0fe1277f",
   "metadata": {},
   "source": [
    "We can see that only 4% of the dataset are the people who have got stroke, which is too imbalanced."
   ]
  },
  {
   "cell_type": "code",
   "execution_count": null,
   "id": "8438ddc4",
   "metadata": {},
   "outputs": [],
   "source": [
    "df['gender'].value_counts()"
   ]
  },
  {
   "cell_type": "markdown",
   "id": "d0f7a616",
   "metadata": {},
   "source": [
    "We can see that 2994 patients are female, and 2115 are males, but notice that there are one other gender. Let's check what is it."
   ]
  },
  {
   "cell_type": "code",
   "execution_count": null,
   "id": "52e590ce",
   "metadata": {},
   "outputs": [],
   "source": [
    "df[df['gender'] == 'Other']"
   ]
  },
  {
   "cell_type": "markdown",
   "id": "eeee6936",
   "metadata": {},
   "source": [
    "Since this row of this dataset does not have any value that is seriously have negative effect of this data, we can leave this data by do not delete it.\\ Now, we plot the histogram on the age distribution to see how is the dataset observed."
   ]
  },
  {
   "cell_type": "code",
   "execution_count": null,
   "id": "0785faa0",
   "metadata": {},
   "outputs": [],
   "source": [
    "plt.figure(figsize=(10,5))\n",
    "sns.histplot(df['age'])\n",
    "plt.title('Age histogram');"
   ]
  },
  {
   "cell_type": "markdown",
   "id": "3195395f",
   "metadata": {},
   "source": [
    "We observe that this data collect all patients in all range of ages. Next, we plot a boxplot to see if there is any outliers here."
   ]
  },
  {
   "cell_type": "code",
   "execution_count": null,
   "id": "75dbbf31",
   "metadata": {},
   "outputs": [],
   "source": [
    "plt.figure(figsize=(10,5))\n",
    "plt.title('Average glucose level boxplot')\n",
    "sns.boxplot(x=df['avg_glucose_level']);"
   ]
  },
  {
   "cell_type": "markdown",
   "id": "0ac8697e",
   "metadata": {},
   "source": [
    "And check outliers for bmi."
   ]
  },
  {
   "cell_type": "code",
   "execution_count": null,
   "id": "b8377729",
   "metadata": {},
   "outputs": [],
   "source": [
    "plt.figure(figsize=(10,5))\n",
    "plt.title('BMI boxplot')\n",
    "sns.boxplot(x=df['bmi']);"
   ]
  },
  {
   "cell_type": "markdown",
   "id": "920dc347",
   "metadata": {},
   "source": [
    "There are some values that are maybe too high, so we observe these values whether it is possible to have these highly bmi."
   ]
  },
  {
   "cell_type": "code",
   "execution_count": null,
   "id": "67651df6",
   "metadata": {},
   "outputs": [],
   "source": [
    "high_bmi = df[df['bmi'] >= 65]\n",
    "high_bmi"
   ]
  },
  {
   "cell_type": "markdown",
   "id": "3f5c998c",
   "metadata": {},
   "source": [
    "We have a question on these outliers. We need to think that these outliers may be affect when we do a regression model. We will consider it later.\n",
    "\n",
    "\n",
    "Below are the three plots of the relationship between average glucose level, bmi, and stroke."
   ]
  },
  {
   "cell_type": "code",
   "execution_count": null,
   "id": "b4798d7b",
   "metadata": {},
   "outputs": [],
   "source": [
    "plt.figure(figsize=(12,7))\n",
    "ax = sns.histplot(data=df, x='avg_glucose_level', hue='stroke', multiple='stack')\n",
    "plt.title('Average glucose level by stroke histogram');"
   ]
  },
  {
   "cell_type": "code",
   "execution_count": null,
   "id": "aa9c9f06",
   "metadata": {},
   "outputs": [],
   "source": [
    "plt.figure(figsize=(12,7))\n",
    "ax = sns.histplot(data=df, x='bmi', hue='stroke', multiple='stack')\n",
    "plt.title('BMI by stroke histogram');"
   ]
  },
  {
   "cell_type": "markdown",
   "id": "cc835186",
   "metadata": {},
   "source": [
    "We can see that both plots are in the bell-shape, that means the dataset we observed have a normal distribution.\n",
    "\n",
    "\n",
    "Belows are the pie charts show the percentage of categorical variables."
   ]
  },
  {
   "cell_type": "code",
   "execution_count": null,
   "id": "bef39308",
   "metadata": {},
   "outputs": [],
   "source": [
    "plt.pie(df['ever_married'].value_counts(), labels=df['ever_married'].unique(), autopct='%1.1f%%');\n",
    "plt.title('Percentage of married (both still and former) people');"
   ]
  },
  {
   "cell_type": "code",
   "execution_count": null,
   "id": "03d4332f",
   "metadata": {},
   "outputs": [],
   "source": [
    "plt.pie(df['work_type'].value_counts(), labels=df['work_type'].unique(), autopct='%1.1f%%');\n",
    "plt.title('Percentage of types of work');"
   ]
  },
  {
   "cell_type": "code",
   "execution_count": null,
   "id": "0ae782b5",
   "metadata": {},
   "outputs": [],
   "source": [
    "plt.pie(df['Residence_type'].value_counts(), labels=df['Residence_type'].unique(), autopct='%1.1f%%');\n",
    "plt.title('Percentage of residence types');"
   ]
  },
  {
   "cell_type": "code",
   "execution_count": null,
   "id": "c60384e4",
   "metadata": {},
   "outputs": [],
   "source": [
    "plt.pie(df['smoking_status'].value_counts(), labels=df['smoking_status'].unique(), autopct='%1.1f%%');\n",
    "plt.title('Percentage of smoking status');"
   ]
  },
  {
   "cell_type": "code",
   "execution_count": null,
   "id": "de057d6c",
   "metadata": {},
   "outputs": [],
   "source": [
    "plt.figure(figsize=(12,7))\n",
    "ax = sns.histplot(data=df, x='avg_glucose_level', hue='gender', multiple='stack')\n",
    "plt.title('The distribution of average glucose level on gender');"
   ]
  },
  {
   "cell_type": "markdown",
   "id": "12b4cbaa",
   "metadata": {},
   "source": [
    "Both genders have the same normal distribution of average glucose level."
   ]
  },
  {
   "cell_type": "code",
   "execution_count": null,
   "id": "99ce128a",
   "metadata": {},
   "outputs": [],
   "source": [
    "plt.figure(figsize=(12,7))\n",
    "ax = sns.histplot(data=df, x='bmi', hue='smoking_status', multiple='layer', kde=True)\n",
    "plt.title('The distribution of bmi base on smoking status');"
   ]
  },
  {
   "cell_type": "markdown",
   "id": "4c39101b",
   "metadata": {},
   "source": [
    "There is a difference on the distribution of bmi between unknown group and the others, and there is a bit difference on the left three group with each other."
   ]
  },
  {
   "cell_type": "code",
   "execution_count": null,
   "id": "be310420",
   "metadata": {},
   "outputs": [],
   "source": [
    "plt.figure(figsize=(12,7))\n",
    "ax = sns.histplot(data=df, x='bmi', hue='hypertension', multiple='layer', kde=True)\n",
    "plt.title('The distribution of bmi base on hypertension category');\n",
    "plt.axvline(x=df[df['hypertension'] == 1].bmi.mean(), color='red', ls='--', lw=2.5);\n",
    "plt.axvline(x=df[df['hypertension'] == 0].bmi.mean(), color='blue', ls='--',lw=2.5);"
   ]
  },
  {
   "cell_type": "markdown",
   "id": "94e191d2",
   "metadata": {},
   "source": [
    "A little bit difference of mean between both group of who have got hypertension has shown.\n",
    "\n",
    "\n",
    "The below scatter plot shows the relationship between average glucose level and bmi. We can see that most of the data are clustered around the bottom left of the plot."
   ]
  },
  {
   "cell_type": "code",
   "execution_count": null,
   "id": "43542d8c",
   "metadata": {},
   "outputs": [],
   "source": [
    "plt.figure(figsize=(12,7))\n",
    "ax = sns.scatterplot(data=df, x='avg_glucose_level', y='bmi', marker=\"+\")\n",
    "plt.title('Scatterplot of average glucose level and bmi');"
   ]
  },
  {
   "cell_type": "markdown",
   "id": "3161fd5c",
   "metadata": {},
   "source": [
    "Three assumptions that may be affect how stroke will be occur are hypertension, heart disease and smoking status. We will observe the percentage of stroke categorized by these causes."
   ]
  },
  {
   "cell_type": "code",
   "execution_count": null,
   "id": "3c953267",
   "metadata": {},
   "outputs": [],
   "source": [
    "df.groupby(['hypertension', 'heart_disease'])[['stroke']].sum()"
   ]
  },
  {
   "cell_type": "markdown",
   "id": "169c2b53",
   "metadata": {},
   "source": [
    "It is interesting that although the patients have no hypertension and heart disease, stroke still can be occurred with highly values.\n",
    "\n",
    "\n",
    "Now, consider on the people who have got stroke. We plot to see the distribution of age among all of these group of stroke."
   ]
  },
  {
   "cell_type": "code",
   "execution_count": null,
   "id": "0d27f665",
   "metadata": {},
   "outputs": [],
   "source": [
    "strokep = df[df['stroke'] == 1]\n",
    "strokep.head()"
   ]
  },
  {
   "cell_type": "code",
   "execution_count": null,
   "id": "d18b93f6",
   "metadata": {},
   "outputs": [],
   "source": [
    "strokep['stroke'].count()"
   ]
  },
  {
   "cell_type": "markdown",
   "id": "1029e988",
   "metadata": {},
   "source": [
    "There are 249 people that have got stroke."
   ]
  },
  {
   "cell_type": "code",
   "execution_count": null,
   "id": "3bbeda09",
   "metadata": {},
   "outputs": [],
   "source": [
    "strokep.describe()"
   ]
  },
  {
   "cell_type": "markdown",
   "id": "3a614ddf",
   "metadata": {},
   "source": [
    "Around 27% of people who have stroke and 19% who have stroke have got hypertension and heart disease, respectively."
   ]
  },
  {
   "cell_type": "code",
   "execution_count": null,
   "id": "e2bd727c",
   "metadata": {},
   "outputs": [],
   "source": [
    "plt.figure(figsize=(12,7))\n",
    "ax = sns.histplot(data=strokep, x='age', hue='heart_disease', multiple='stack')\n",
    "plt.title('The distribution of age on people who have got stroke categorized by heart disease histogram');"
   ]
  },
  {
   "cell_type": "code",
   "execution_count": null,
   "id": "bee69f04",
   "metadata": {},
   "outputs": [],
   "source": [
    "plt.figure(figsize=(12,7))\n",
    "ax = sns.histplot(data=strokep, x='age', hue='hypertension', multiple='stack')\n",
    "plt.title('The distribution of age on people who have got stroke categorized by hypertension histogram');"
   ]
  },
  {
   "cell_type": "markdown",
   "id": "4fcf8f6f",
   "metadata": {},
   "source": [
    "We can see from this graph that if the age is higher than 50, more likely to have a stroke. Moreover, many people who have stroke also have hypertension and heart disease.\n",
    "\n",
    "Lastly, we plot the correlation heatmap to show whether the variables are correlated to each other."
   ]
  },
  {
   "cell_type": "code",
   "execution_count": null,
   "id": "18c193bf",
   "metadata": {},
   "outputs": [],
   "source": [
    "plt.figure(figsize=(16, 9))\n",
    "heatmap = sns.heatmap(df.corr(), vmin=-1, vmax=1, annot=True, cmap=sns.color_palette(\"vlag\", as_cmap=True))\n",
    "heatmap.set_title('Correlation Heatmap', fontdict={'fontsize':14}, pad=12);"
   ]
  },
  {
   "cell_type": "markdown",
   "id": "a6215aa4",
   "metadata": {},
   "source": [
    "As we can see, the most impact variable that affect on the three causes assumption, stroke and bmi is age variable. Below we plot the scatter plot on the bmi and average glucose level variables."
   ]
  },
  {
   "cell_type": "code",
   "execution_count": null,
   "id": "7c0c9960",
   "metadata": {},
   "outputs": [],
   "source": [
    "plt.figure(figsize=(12,7))\n",
    "ax = sns.scatterplot(data=df, x='bmi', y='avg_glucose_level', marker=\"x\")\n",
    "plt.title('Scatter plot of bmi and average glucose level');"
   ]
  },
  {
   "cell_type": "markdown",
   "id": "46455d06",
   "metadata": {},
   "source": [
    "# Logistic Regression"
   ]
  },
  {
   "cell_type": "code",
   "execution_count": null,
   "id": "e285a79f",
   "metadata": {},
   "outputs": [],
   "source": [
    "from imblearn.under_sampling import RandomUnderSampler\n",
    "from sklearn.preprocessing import OneHotEncoder\n",
    "from sklearn.model_selection import train_test_split\n",
    "from sklearn.linear_model import LogisticRegression\n",
    "import sklearn.metrics as metrics"
   ]
  },
  {
   "cell_type": "markdown",
   "id": "45a907b7",
   "metadata": {},
   "source": [
    "We fist drop irrelevant column (id) before we make the model."
   ]
  },
  {
   "cell_type": "code",
   "execution_count": null,
   "id": "48b925b3",
   "metadata": {},
   "outputs": [],
   "source": [
    "df_subset = df.drop(['id'], axis = 1).dropna(axis=0).reset_index(drop = True)"
   ]
  },
  {
   "cell_type": "markdown",
   "id": "0d8952af",
   "metadata": {},
   "source": [
    "Then we use get_dummies to get the numeric data for each categorical variables."
   ]
  },
  {
   "cell_type": "code",
   "execution_count": null,
   "id": "cdd5d966",
   "metadata": {},
   "outputs": [],
   "source": [
    "df_subset = pd.get_dummies(df_subset, drop_first=False)\n",
    "df_subset"
   ]
  },
  {
   "cell_type": "markdown",
   "id": "90f8ab07",
   "metadata": {},
   "source": [
    "After that, we use under-sample method to sample the imbalance datas. Then we split into train and test data."
   ]
  },
  {
   "cell_type": "code",
   "execution_count": null,
   "id": "1b399d82",
   "metadata": {},
   "outputs": [],
   "source": [
    "X = df_subset.drop(columns=['stroke'])\n",
    "y = df_subset['stroke']\n",
    "\n",
    "undersample = RandomUnderSampler(sampling_strategy=0.6)\n",
    "X_sampled, y_sampled = undersample.fit_resample(X, y)\n",
    "\n",
    "X_train, X_test, y_train, y_test = train_test_split(X_sampled, y_sampled,test_size=0.25,random_state=42)"
   ]
  },
  {
   "cell_type": "markdown",
   "id": "d8dce409",
   "metadata": {},
   "source": [
    "We make pipeline to scaling data first, then we put in the logistic regression model."
   ]
  },
  {
   "cell_type": "code",
   "execution_count": null,
   "id": "bae853c2",
   "metadata": {},
   "outputs": [],
   "source": [
    "from sklearn.pipeline import make_pipeline\n",
    "from sklearn.preprocessing import StandardScaler\n",
    "\n",
    "pipe = make_pipeline(StandardScaler(), LogisticRegression())\n",
    "pipe.fit(X_train,y_train)"
   ]
  },
  {
   "cell_type": "code",
   "execution_count": null,
   "id": "d1f8fb40",
   "metadata": {},
   "outputs": [],
   "source": [
    "print('The coefficients are: ', pipe[1].coef_)\n",
    "print('The y-intercept is: ', pipe[1].intercept_)"
   ]
  },
  {
   "cell_type": "markdown",
   "id": "ae3e1c80",
   "metadata": {},
   "source": [
    "Now we make a prediction on the test variable."
   ]
  },
  {
   "cell_type": "code",
   "execution_count": null,
   "id": "897eaf48",
   "metadata": {},
   "outputs": [],
   "source": [
    "y_pred = pipe.predict(X_test)"
   ]
  },
  {
   "cell_type": "markdown",
   "id": "aa17c0ad",
   "metadata": {},
   "source": [
    "These show all the prediction values."
   ]
  },
  {
   "cell_type": "code",
   "execution_count": null,
   "id": "46442132",
   "metadata": {},
   "outputs": [],
   "source": [
    "print(y_pred)"
   ]
  },
  {
   "cell_type": "markdown",
   "id": "fb810b39",
   "metadata": {},
   "source": [
    "And show the probability of all predictions."
   ]
  },
  {
   "cell_type": "code",
   "execution_count": null,
   "id": "ce540989",
   "metadata": {},
   "outputs": [],
   "source": [
    "pipe.predict_proba(X_test)"
   ]
  },
  {
   "cell_type": "markdown",
   "id": "2f054e3a",
   "metadata": {},
   "source": [
    "These are 4 metrics of the prediction. We can see that there is 77% of accuracy, which means we can correctly predict the person whether have got stroke or not by 77 percents."
   ]
  },
  {
   "cell_type": "code",
   "execution_count": null,
   "id": "af24c65f",
   "metadata": {},
   "outputs": [],
   "source": [
    "table = pd.DataFrame(data = {'Model': \"Logistic Regression\",\n",
    "                          'F1': [\"%.6f\" % metrics.f1_score(y_test, y_pred)],\n",
    "                          'Recall': [\"%.6f\" % metrics.recall_score(y_test, y_pred)],\n",
    "                          'Precision': [\"%.6f\" % metrics.precision_score(y_test, y_pred)],\n",
    "                          'Accuracy': [\"%.6f\" % metrics.accuracy_score(y_test, y_pred)]})\n",
    "table"
   ]
  },
  {
   "cell_type": "markdown",
   "id": "f89b1fd5",
   "metadata": {},
   "source": [
    "And below is the confusion matrix However, we have seen that from people who have stroke, there will be 108 people that we can correctly predict, but the remaining 18 are false negative, which seems to be a large number."
   ]
  },
  {
   "cell_type": "code",
   "execution_count": null,
   "id": "66292411",
   "metadata": {},
   "outputs": [],
   "source": [
    "cm = metrics.confusion_matrix(y_test, y_pred, labels = pipe[1].classes_)\n",
    "disp = metrics.ConfusionMatrixDisplay(confusion_matrix = cm,display_labels = pipe[1].classes_)\n",
    "disp.plot()"
   ]
  },
  {
   "cell_type": "markdown",
   "id": "66005516",
   "metadata": {},
   "source": [
    "We plot an ROC curve below, which shows that the prediction are likely to be just a random since AUC is only 0.57. So, we should find more other model to aim more accuracy and AUC."
   ]
  },
  {
   "cell_type": "code",
   "execution_count": null,
   "id": "523408b3",
   "metadata": {},
   "outputs": [],
   "source": [
    "from sklearn.metrics import roc_curve, auc, precision_recall_curve, average_precision_score\n",
    "def ROC_plot(clf,X_test):\n",
    "  y_score = clf.predict_proba(X_test)\n",
    "  fpr, tpr, _ = roc_curve(y_test, y_score[:, 1])\n",
    "  roc_auc = auc(fpr, tpr)\n",
    "\n",
    "  plt.figure(figsize=(12, 8))\n",
    "\n",
    "  # ROC\n",
    "  plt.plot(fpr, tpr, color='black', lw=2, label='ROC curve (area = %0.2f)' % roc_auc)\n",
    "  plt.plot([0, 1], [0, 1], color='red', lw=2, linestyle='--')\n",
    "  plt.xlim([-0.05, 1.05])\n",
    "  plt.ylim([-0.05, 1.05])\n",
    "  plt.xlabel('False Positive Rate')\n",
    "  plt.ylabel('True Positive Rate')\n",
    "  plt.title('Receiver operating characteristic (ROC)')\n",
    "  plt.legend(loc='lower right')\n",
    "  plt.show()"
   ]
  },
  {
   "cell_type": "code",
   "execution_count": null,
   "id": "31021194",
   "metadata": {},
   "outputs": [],
   "source": [
    "ROC_plot(pipe[1],X_test)"
   ]
  },
  {
   "cell_type": "markdown",
   "id": "7bf7db49",
   "metadata": {},
   "source": [
    "# Decision Tree Model"
   ]
  },
  {
   "cell_type": "code",
   "execution_count": null,
   "id": "49842479",
   "metadata": {},
   "outputs": [],
   "source": [
    "from sklearn.model_selection import GridSearchCV\n",
    "from sklearn.tree import DecisionTreeClassifier\n",
    "from sklearn.tree import plot_tree"
   ]
  },
  {
   "cell_type": "markdown",
   "id": "bab0595d",
   "metadata": {},
   "source": [
    "We set, fit, and predict the decision tree model."
   ]
  },
  {
   "cell_type": "code",
   "execution_count": null,
   "id": "36b5daf7",
   "metadata": {},
   "outputs": [],
   "source": [
    "decision_tree = DecisionTreeClassifier(random_state=42)\n",
    "\n",
    "decision_tree.fit(X_train, y_train)\n",
    "\n",
    "dt_pred = decision_tree.predict(X_test)"
   ]
  },
  {
   "cell_type": "markdown",
   "id": "30a20336",
   "metadata": {},
   "source": [
    "Now we have the metric score as below. We can see that most of the metrics are drop from the logistic regression model."
   ]
  },
  {
   "cell_type": "code",
   "execution_count": null,
   "id": "4e42605b",
   "metadata": {},
   "outputs": [],
   "source": [
    "print(\"Decision Tree\")\n",
    "print(\"Accuracy:\", \"%.6f\" % metrics.accuracy_score(y_test, dt_pred))\n",
    "print(\"Precision:\", \"%.6f\" % metrics.precision_score(y_test, dt_pred))\n",
    "print(\"Recall:\", \"%.6f\" % metrics.recall_score(y_test, dt_pred))\n",
    "print(\"F1 Score:\", \"%.6f\" % metrics.f1_score(y_test, dt_pred))"
   ]
  },
  {
   "cell_type": "code",
   "execution_count": null,
   "id": "582256f0",
   "metadata": {},
   "outputs": [],
   "source": [
    "result_table1 = pd.DataFrame(data = {'Model': \"Decision Tree\",\n",
    "                          'F1': [\"%.6f\" % metrics.f1_score(y_test, dt_pred)],\n",
    "                          'Recall': [\"%.6f\" % metrics.recall_score(y_test, dt_pred)],\n",
    "                          'Precision': [\"%.6f\" % metrics.precision_score(y_test, dt_pred)],\n",
    "                          'Accuracy': [\"%.6f\" % metrics.accuracy_score(y_test, dt_pred)]})\n",
    "table = pd.concat([table, result_table1], ignore_index=True)"
   ]
  },
  {
   "cell_type": "markdown",
   "id": "2ab0a0da",
   "metadata": {},
   "source": [
    "We observe the confusion matrix below. We can see that false negative is quite big."
   ]
  },
  {
   "cell_type": "code",
   "execution_count": null,
   "id": "45d6ee0a",
   "metadata": {},
   "outputs": [],
   "source": [
    "cm = metrics.confusion_matrix(y_test, dt_pred, labels = decision_tree.classes_)\n",
    "disp = metrics.ConfusionMatrixDisplay(confusion_matrix = cm,display_labels = decision_tree.classes_)\n",
    "disp.plot()"
   ]
  },
  {
   "cell_type": "code",
   "execution_count": null,
   "id": "3a4a9084",
   "metadata": {},
   "outputs": [],
   "source": [
    "ROC_plot(decision_tree,X_test)"
   ]
  },
  {
   "cell_type": "code",
   "execution_count": null,
   "id": "ecf23207",
   "metadata": {},
   "outputs": [],
   "source": [
    "plt.figure(figsize=(20,12))\n",
    "plot_tree(decision_tree, max_depth=2, fontsize=14, feature_names=X.columns);"
   ]
  },
  {
   "cell_type": "code",
   "execution_count": null,
   "id": "576d61bd",
   "metadata": {},
   "outputs": [],
   "source": [
    "importances = decision_tree.feature_importances_\n",
    "\n",
    "forest_importances = pd.Series(importances, index=X.columns).sort_values(ascending=False)\n",
    "\n",
    "fig, ax = plt.subplots()\n",
    "forest_importances.plot.bar(ax=ax);"
   ]
  },
  {
   "cell_type": "markdown",
   "id": "1b352368",
   "metadata": {},
   "source": [
    "# Random Forest"
   ]
  },
  {
   "cell_type": "code",
   "execution_count": null,
   "id": "3d57d564",
   "metadata": {},
   "outputs": [],
   "source": [
    "from sklearn.ensemble import RandomForestClassifier\n",
    "from sklearn.model_selection import PredefinedSplit\n",
    "from sklearn.metrics import f1_score, precision_score, recall_score, accuracy_score"
   ]
  },
  {
   "cell_type": "code",
   "execution_count": null,
   "id": "a2dee72d",
   "metadata": {},
   "outputs": [],
   "source": [
    "X_train, X_test, y_train, y_test = train_test_split(X, y, test_size = 0.25, random_state = 42)\n",
    "X_tr, X_val, y_tr, y_val = train_test_split(X_train, y_train, test_size = 0.25, random_state = 42)"
   ]
  },
  {
   "cell_type": "markdown",
   "id": "e9f47c9b",
   "metadata": {},
   "source": [
    "We will set the amount of parameters for testing the cross validation."
   ]
  },
  {
   "cell_type": "code",
   "execution_count": null,
   "id": "e06fc54f",
   "metadata": {},
   "outputs": [],
   "source": [
    "cv_params = {'n_estimators' : [50,100], \n",
    "              'max_depth' : [10,50],        \n",
    "              'min_samples_leaf' : [0.5,1], \n",
    "              'min_samples_split' : [0.001, 0.01],\n",
    "              'max_features' : [\"sqrt\"], \n",
    "              'max_samples' : [.5,.9]}"
   ]
  },
  {
   "cell_type": "code",
   "execution_count": null,
   "id": "365495cb",
   "metadata": {},
   "outputs": [],
   "source": [
    "split_index = [0 if x in X_val.index else -1 for x in X_train.index]\n",
    "custom_split = PredefinedSplit(split_index)"
   ]
  },
  {
   "cell_type": "markdown",
   "id": "4b8a3f9b",
   "metadata": {},
   "source": [
    "Then we fit the random forest model."
   ]
  },
  {
   "cell_type": "code",
   "execution_count": null,
   "id": "de97f0d8",
   "metadata": {},
   "outputs": [],
   "source": [
    "rf = RandomForestClassifier(random_state=42, class_weight='balanced')"
   ]
  },
  {
   "cell_type": "code",
   "execution_count": null,
   "id": "47847d96",
   "metadata": {},
   "outputs": [],
   "source": [
    "rf_val = GridSearchCV(rf, cv_params, cv=custom_split, refit='f1', n_jobs = -1, verbose = 1)"
   ]
  },
  {
   "cell_type": "code",
   "execution_count": null,
   "id": "abd32aac",
   "metadata": {},
   "outputs": [],
   "source": [
    "rf_val.fit(X_train, y_train)"
   ]
  },
  {
   "cell_type": "code",
   "execution_count": null,
   "id": "8445885a",
   "metadata": {},
   "outputs": [],
   "source": [
    "rf_val.best_params_"
   ]
  },
  {
   "cell_type": "code",
   "execution_count": null,
   "id": "8288696c",
   "metadata": {},
   "outputs": [],
   "source": [
    "rf_opt = RandomForestClassifier(max_depth = 10,\n",
    " max_features = 'sqrt',\n",
    " max_samples = 0.5,\n",
    " min_samples_leaf = 1,\n",
    " min_samples_split = 0.001,\n",
    " n_estimators = 50, random_state = 42, class_weight='balanced')"
   ]
  },
  {
   "cell_type": "code",
   "execution_count": null,
   "id": "af0a5c8f",
   "metadata": {},
   "outputs": [],
   "source": [
    "rf_opt.fit(X_train, y_train)"
   ]
  },
  {
   "cell_type": "code",
   "execution_count": null,
   "id": "97b0e422",
   "metadata": {},
   "outputs": [],
   "source": [
    "y_pred = rf_opt.predict(X_test)"
   ]
  },
  {
   "cell_type": "markdown",
   "id": "0e82e11e",
   "metadata": {},
   "source": [
    "This model have high value of all metrics, which exceed more than 90% for each metric."
   ]
  },
  {
   "cell_type": "code",
   "execution_count": null,
   "id": "d481070a",
   "metadata": {},
   "outputs": [],
   "source": [
    "pc_test = precision_score(y_test, y_pred, pos_label = 0)\n",
    "rc_test = recall_score(y_test, y_pred, pos_label = 0)\n",
    "ac_test = accuracy_score(y_test, y_pred)\n",
    "f1_test = f1_score(y_test, y_pred, pos_label = 0)"
   ]
  },
  {
   "cell_type": "code",
   "execution_count": null,
   "id": "9dab6b95",
   "metadata": {},
   "outputs": [],
   "source": [
    "table = table.append({'Model': \"Tuned Random Forest\",\n",
    "                        'F1':  f1_test,\n",
    "                        'Recall': rc_test,\n",
    "                        'Precision': pc_test,\n",
    "                        'Accuracy': ac_test\n",
    "                      },\n",
    "                        ignore_index=True\n",
    "                    )\n",
    "table"
   ]
  },
  {
   "cell_type": "markdown",
   "id": "e70ecc20",
   "metadata": {},
   "source": [
    "However, the false negative value are too high than the other model and it can find the true negative only 5 samples"
   ]
  },
  {
   "cell_type": "code",
   "execution_count": null,
   "id": "36951fae",
   "metadata": {},
   "outputs": [],
   "source": [
    "cm = metrics.confusion_matrix(y_test, y_pred)\n",
    "disp = metrics.ConfusionMatrixDisplay(confusion_matrix = cm)\n",
    "disp.plot()"
   ]
  },
  {
   "cell_type": "markdown",
   "id": "ce8513e2",
   "metadata": {},
   "source": [
    "For this model, we have the AUC 0.82, which is fairly high."
   ]
  },
  {
   "cell_type": "code",
   "execution_count": null,
   "id": "3539f860",
   "metadata": {},
   "outputs": [],
   "source": [
    "ROC_plot(rf_opt,X_test)"
   ]
  },
  {
   "cell_type": "code",
   "execution_count": null,
   "id": "a0d570de",
   "metadata": {},
   "outputs": [],
   "source": [
    "table"
   ]
  },
  {
   "cell_type": "code",
   "execution_count": null,
   "id": "97c908d6",
   "metadata": {},
   "outputs": [],
   "source": []
  }
 ],
 "metadata": {
  "kernelspec": {
   "display_name": "Python 3 (ipykernel)",
   "language": "python",
   "name": "python3"
  },
  "language_info": {
   "codemirror_mode": {
    "name": "ipython",
    "version": 3
   },
   "file_extension": ".py",
   "mimetype": "text/x-python",
   "name": "python",
   "nbconvert_exporter": "python",
   "pygments_lexer": "ipython3",
   "version": "3.11.3"
  }
 },
 "nbformat": 4,
 "nbformat_minor": 5
}
